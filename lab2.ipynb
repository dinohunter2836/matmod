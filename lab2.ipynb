{
 "cells": [
  {
   "cell_type": "markdown",
   "id": "administrative-washer",
   "metadata": {},
   "source": [
    "# Лабораторная работа № 2\n",
    "## Выполнил: Яковлев Артур, 853501\n",
    "## Проверил: Бутома В. С."
   ]
  },
  {
   "cell_type": "markdown",
   "id": "expired-subsection",
   "metadata": {},
   "source": [
    "### Импорт библиотек"
   ]
  },
  {
   "cell_type": "code",
   "execution_count": 50,
   "id": "maritime-assist",
   "metadata": {},
   "outputs": [],
   "source": [
    "import typing as tp\n",
    "import numpy as np\n",
    "import pandas as pd\n",
    "import matplotlib.pyplot as plt\n",
    "import seaborn as sns\n",
    "\n",
    "from heapq import heappush, heappop\n",
    "from numpy.random import exponential\n",
    "from enum import Enum"
   ]
  },
  {
   "cell_type": "markdown",
   "id": "entertaining-mistress",
   "metadata": {},
   "source": [
    "### Реализация событий для моделирования"
   ]
  },
  {
   "cell_type": "code",
   "execution_count": 51,
   "id": "placed-mechanism",
   "metadata": {},
   "outputs": [],
   "source": [
    "class EventType(Enum):\n",
    "    Arrival = 1\n",
    "    Service = 2\n",
    "    Rejection = 3\n",
    "\n",
    "\n",
    "class Event:\n",
    "    def __init__(self, event_type: EventType, event_id: int, time: float, client: int) -> None:\n",
    "        self.type = event_type\n",
    "        self.event_id = event_id\n",
    "        self.time = time\n",
    "        self.client = client\n",
    "\n",
    "    def __lt__(self, other) -> bool:\n",
    "        return self.time < other.time\n",
    "\n",
    "    def __hash__(self) -> int:\n",
    "        return hash((self.event_id, self.time, self.client))\n",
    "\n",
    "    def __str__(self) -> str:\n",
    "        return f'type={self.type} id={self.event_id} time={self.time} client={self.client}'\n",
    "\n",
    "    def __repr__(self) -> str:\n",
    "        return str(self)"
   ]
  },
  {
   "cell_type": "markdown",
   "id": "arbitrary-politics",
   "metadata": {},
   "source": [
    "### Генератор для экспоненциальных распределений и очередь событий с возможностью удаления по клиентам"
   ]
  },
  {
   "cell_type": "code",
   "execution_count": 52,
   "id": "egyptian-phase",
   "metadata": {},
   "outputs": [],
   "source": [
    "class ExponentialGenerator:\n",
    "    def __init__(self, param: float) -> None:\n",
    "        self.param = 1. / param\n",
    "\n",
    "    def __iter__(self) -> 'ExponentialGenerator':\n",
    "        return self\n",
    "\n",
    "    def __next__(self) -> float:\n",
    "        return exponential(self.param)"
   ]
  },
  {
   "cell_type": "code",
   "execution_count": 53,
   "id": "thorough-monaco",
   "metadata": {},
   "outputs": [],
   "source": [
    "class EventQueue:\n",
    "    def __init__(self) -> None:\n",
    "        self.events: tp.Set[Event] = set()\n",
    "        self.client_to_event: tp.Dict[int, Event] = {}\n",
    "        self.heap: tp.List[Event] = []\n",
    "\n",
    "    def push(self, event: Event) -> None:\n",
    "        heappush(self.heap, event)\n",
    "        self.client_to_event[event.client] = event\n",
    "        self.events.add(event)\n",
    "\n",
    "    def pop(self) -> tp.Optional[Event]:\n",
    "        while not self.empty():\n",
    "            event = heappop(self.heap)\n",
    "            if event in self.events:\n",
    "                self.events.remove(event)\n",
    "                self.client_to_event.pop(event.client)\n",
    "                return event\n",
    "\n",
    "    def remove(self, client: int) -> None:\n",
    "        self.events.remove(self.client_to_event[client])\n",
    "        self.client_to_event.pop(client)\n",
    "\n",
    "    def clear(self) -> None:\n",
    "        self.heap.clear()\n",
    "\n",
    "    def empty(self) -> bool:\n",
    "        return len(self.heap) == 0\n",
    "\n",
    "    def __len__(self) -> int:\n",
    "        return len(self.heap)\n",
    "\n",
    "    def __str__(self) -> str:\n",
    "        return str(self.heap)\n",
    "\n",
    "    def __repr__(self) -> str:\n",
    "        return str(self)"
   ]
  },
  {
   "cell_type": "markdown",
   "id": "spoken-stroke",
   "metadata": {},
   "source": [
    "### Реализация симулятора"
   ]
  },
  {
   "cell_type": "code",
   "execution_count": 56,
   "id": "victorian-delay",
   "metadata": {},
   "outputs": [],
   "source": [
    "class Simulator:\n",
    "    def __init__(\n",
    "            self,\n",
    "            channels: int,\n",
    "            queue_size: int,\n",
    "            arrival_rate: float,\n",
    "            service_rate: float,\n",
    "            rejection_rate: float\n",
    "    ) -> None:\n",
    "        self.channels = channels\n",
    "        assert arrival_rate > 0\n",
    "        assert service_rate > 0\n",
    "        assert rejection_rate > 0\n",
    "        self.arrival_rate = arrival_rate\n",
    "        self.arrival_generator = ExponentialGenerator(arrival_rate)\n",
    "        self.service_rate = service_rate\n",
    "        self.service_generator = ExponentialGenerator(service_rate)\n",
    "        self.rejection_rate = rejection_rate\n",
    "        self.rejection_generator = ExponentialGenerator(rejection_rate)\n",
    "        self.event_queue = EventQueue()\n",
    "        self.queue_size = queue_size\n",
    "        self.rejections = 0\n",
    "        self.successes = 0\n",
    "        assert queue_size > 0\n",
    "        self.states = np.zeros(channels + queue_size + 1, dtype='float64')\n",
    "\n",
    "    def __call__(self, max_time: float) -> None:\n",
    "        self.event_queue.clear()\n",
    "        self.rejections = 0\n",
    "        self.successes = 0\n",
    "        self.event_queue.push(Event(EventType.Arrival, 0, next(self.arrival_generator), 0))\n",
    "        self.states.fill(0)\n",
    "        clients_count = 1\n",
    "        current_queue: tp.List[int] = []\n",
    "        busy_channels = 0\n",
    "        events_count = 1\n",
    "        current_time = 0.\n",
    "        while current_time < max_time:\n",
    "            assert not current_queue or busy_channels == self.channels\n",
    "            event = self.event_queue.pop()\n",
    "            # print(event)\n",
    "            state = busy_channels + len(current_queue)\n",
    "            self.states[state] += event.time - current_time\n",
    "            current_time = event.time\n",
    "            if event.type is EventType.Arrival:\n",
    "                if busy_channels < self.channels:\n",
    "                    busy_channels += 1\n",
    "                    self.event_queue.push(Event(\n",
    "                        EventType.Service,\n",
    "                        events_count,\n",
    "                        current_time + next(self.service_generator),\n",
    "                        event.client\n",
    "                    ))\n",
    "                    events_count += 1\n",
    "                elif len(current_queue) < self.queue_size:\n",
    "                    current_queue.append(event.client)\n",
    "                    self.event_queue.push(Event(\n",
    "                        EventType.Rejection,\n",
    "                        events_count,\n",
    "                        current_time + next(self.rejection_generator),\n",
    "                        event.client\n",
    "                    ))\n",
    "                    events_count += 1\n",
    "                else:\n",
    "                    raise ValueError('Something went wrong: trying to add customer with full queue')\n",
    "                if len(current_queue) < self.queue_size:\n",
    "                    self.event_queue.push(Event(\n",
    "                        EventType.Arrival,\n",
    "                        events_count,\n",
    "                        current_time + next(self.arrival_generator),\n",
    "                        clients_count\n",
    "                    ))\n",
    "                    events_count += 1\n",
    "                    clients_count += 1\n",
    "            elif event.type is EventType.Service:\n",
    "                self.successes += 1\n",
    "                if current_queue:\n",
    "                    client = current_queue[0]\n",
    "                    if len(current_queue) == self.queue_size:\n",
    "                        self.event_queue.push(Event(\n",
    "                            EventType.Arrival,\n",
    "                            events_count,\n",
    "                            current_time + next(self.arrival_generator),\n",
    "                            clients_count\n",
    "                        ))\n",
    "                        events_count += 1\n",
    "                        clients_count += 1\n",
    "\n",
    "                    self.event_queue.remove(client)\n",
    "                    current_queue.pop(0)\n",
    "                    self.event_queue.push(Event(\n",
    "                        EventType.Service,\n",
    "                        events_count,\n",
    "                        current_time + next(self.service_generator),\n",
    "                        client\n",
    "                    ))\n",
    "                    events_count += 1\n",
    "                else:\n",
    "                    busy_channels -= 1\n",
    "            elif event.type is EventType.Rejection:\n",
    "                self.rejections += 1\n",
    "                if len(current_queue) == self.queue_size:\n",
    "                    self.event_queue.push(Event(\n",
    "                        EventType.Arrival,\n",
    "                        events_count,\n",
    "                        current_time + next(self.arrival_generator),\n",
    "                        clients_count\n",
    "                    ))\n",
    "                    events_count += 1\n",
    "                    clients_count += 1\n",
    "\n",
    "                current_queue.remove(event.client)\n",
    "\n",
    "            # event = self.event_queue.pop()\n",
    "\n",
    "    def evaluate(self) -> tp.Tuple[np.ndarray, int, int]:\n",
    "        if np.sum(self.states) == 0:\n",
    "            raise ValueError('Simulation has not been running or no events happened')\n",
    "        return self.states / np.sum(self.states)\n",
    "\n",
    "    @staticmethod\n",
    "    def __factorial(i: int) -> int:\n",
    "        if i == 0:\n",
    "            return 1\n",
    "        return np.prod(np.arange(1, i + 1)).item()\n",
    "\n",
    "    def __channels_item(self, idx: int) -> float:\n",
    "        return (self.arrival_rate / self.service_rate) ** idx / self.__factorial(idx)\n",
    "\n",
    "    def __queue_item(self, idx: int) -> float:\n",
    "        return (self.arrival_rate / self.service_rate) ** idx / np.prod(\n",
    "            [self.channels + l * self.rejection_rate / self.service_rate for l in range(1, idx + 1)]\n",
    "        )\n",
    "\n",
    "    def get_theoretical_probabilities(self) -> np.ndarray:\n",
    "        result = np.zeros(self.channels + self.queue_size + 1, dtype='float64')\n",
    "        result[0] = sum([self.__channels_item(i) for i in range(self.channels + 1)])\n",
    "        result[0] += self.__channels_item(self.channels) * sum(\n",
    "            [self.__queue_item(i) for i in range(1, 1 + self.queue_size)]\n",
    "        )\n",
    "        result[0] = 1 / result[0]\n",
    "        for i in range(1, self.channels + 1):\n",
    "            result[i] = result[0] * self.__channels_item(i)\n",
    "        for i in range(self.channels + 1, len(result)):\n",
    "            result[i] = result[self.channels] * self.__queue_item(i - self.channels)\n",
    "        assert np.allclose(np.sum(result), 1., atol=1e-3)\n",
    "        return result\n",
    "\n",
    "    def get_system_stats(self, probas: np.ndarray) -> tp.Dict[str, tp.Any]:\n",
    "        rejection_proba = probas[self.channels] * self.__channels_item(1) ** self.queue_size / np.prod([\n",
    "            self.channels + l * self.rejection_rate / self.service_rate for l in range(1, self.queue_size + 1)\n",
    "        ])\n",
    "        Q = 1 - rejection_proba\n",
    "        A = self.arrival_rate * Q\n",
    "        avg_requests_in_queue = sum(i * probas[i + self.channels] for i in range(1, self.queue_size + 1))\n",
    "        avg_busy_channels = self.channels * np.sum(probas[self.channels + 1:]) + sum(i * probas[i] for i in range(1, self.channels + 1))\n",
    "        avg_total_requests = avg_requests_in_queue + avg_busy_channels\n",
    "        avg_requests_in_queue_time = avg_requests_in_queue / self.arrival_rate\n",
    "        avg_system_time = avg_total_requests / self.arrival_rate\n",
    "        return [rejection_proba, A, avg_requests_in_queue, avg_total_requests, avg_system_time, avg_requests_in_queue_time, avg_busy_channels]"
   ]
  },
  {
   "cell_type": "markdown",
   "id": "stylish-documentation",
   "metadata": {},
   "source": [
    "### Визуализация результатов моделирования"
   ]
  },
  {
   "cell_type": "code",
   "execution_count": 57,
   "id": "hollow-rental",
   "metadata": {},
   "outputs": [],
   "source": [
    "def stats_dataframe(simulator: Simulator) -> pd.DataFrame:\n",
    "    rows = np.array(['Вероятность отказа', 'Абсолютная пропускная способность', \n",
    "                     'Среднее число заявок в очереди', 'Среднее время пребывания заявки в очереди',\n",
    "               'Среднее число заявок в СМО', 'Среднее время пребывания заявки в СМО', 'Среднее число занятых каналов']).reshape(-1, 1)\n",
    "    columns = ['Характеристика', 'Значения для системы', 'Теоретические значения']\n",
    "    system_probas = np.array(simulator.get_system_stats(simulator.evaluate())).reshape(-1, 1)\n",
    "    theoretical_probas = np.array(simulator.get_system_stats(simulator.get_theoretical_probabilities())).reshape(-1, 1)\n",
    "    return pd.DataFrame(np.hstack((rows, system_probas, theoretical_probas)), columns=columns).style.hide_index()"
   ]
  },
  {
   "cell_type": "code",
   "execution_count": 58,
   "id": "interstate-carolina",
   "metadata": {},
   "outputs": [],
   "source": [
    "def plot_hists(simulator):\n",
    "    system_probas = simulator.evaluate()\n",
    "    theoretical_probas = simulator.get_theoretical_probabilities()\n",
    "    fig, axes= plt.subplots(1, 2, figsize=(14, 6))\n",
    "    sns.barplot(np.arange(len(system_probas)), system_probas, ax=axes[0])\n",
    "    sns.barplot(np.arange(len(system_probas)), theoretical_probas, ax=axes[1])\n",
    "\n",
    "    axes[0].set_title('System state probas')\n",
    "    axes[0].set_xlabel('State')\n",
    "    axes[0].set_ylabel('Probability')\n",
    "\n",
    "    axes[1].set_xlabel('State')\n",
    "    axes[1].set_ylabel('Probability')\n",
    "    axes[1].set_title('Theoretical system state probas')\n",
    "    plt.show()"
   ]
  },
  {
   "cell_type": "markdown",
   "id": "worldwide-christian",
   "metadata": {},
   "source": [
    "## Примеры СМО"
   ]
  },
  {
   "cell_type": "code",
   "execution_count": 59,
   "id": "secondary-junction",
   "metadata": {},
   "outputs": [],
   "source": [
    "simulator = Simulator(\n",
    "    channels=7,\n",
    "    queue_size=3,\n",
    "    arrival_rate=1.,\n",
    "    service_rate=0.2,\n",
    "    rejection_rate=0.5\n",
    ")\n",
    "simulator(100000)"
   ]
  },
  {
   "cell_type": "code",
   "execution_count": 60,
   "id": "iraqi-macedonia",
   "metadata": {},
   "outputs": [
    {
     "name": "stderr",
     "output_type": "stream",
     "text": [
      "/home/pineapple/.local/lib/python3.6/site-packages/seaborn/_decorators.py:43: FutureWarning: Pass the following variables as keyword args: x, y. From version 0.12, the only valid positional argument will be `data`, and passing other arguments without an explicit keyword will result in an error or misinterpretation.\n",
      "  FutureWarning\n",
      "/home/pineapple/.local/lib/python3.6/site-packages/seaborn/_decorators.py:43: FutureWarning: Pass the following variables as keyword args: x, y. From version 0.12, the only valid positional argument will be `data`, and passing other arguments without an explicit keyword will result in an error or misinterpretation.\n",
      "  FutureWarning\n"
     ]
    },
    {
     "data": {
      "image/png": "[encoded data removed]",
      "text/plain": [
       "<Figure size 1008x432 with 2 Axes>"
      ]
     },
     "metadata": {
      "needs_background": "light"
     },
     "output_type": "display_data"
    }
   ],
   "source": [
    "plot_hists(simulator)"
   ]
  },
  {
   "cell_type": "code",
   "execution_count": 16,
   "id": "spread-grill",
   "metadata": {},
   "outputs": [
    {
     "data": {
      "text/html": [
       "<style  type=\"text/css\" >\n",
       "</style><table id=\"T_8a7f774e_3b2f_11ec_b9bf_00155d576b7b\" ><thead>    <tr>        <th class=\"col_heading level0 col0\" >Характеристика</th>        <th class=\"col_heading level0 col1\" >Значения для системы</th>        <th class=\"col_heading level0 col2\" >Теоретические значения</th>    </tr></thead><tbody>\n",
       "                <tr>\n",
       "                                <td id=\"T_8a7f774e_3b2f_11ec_b9bf_00155d576b7brow0_col0\" class=\"data row0 col0\" >Вероятность отказа</td>\n",
       "                        <td id=\"T_8a7f774e_3b2f_11ec_b9bf_00155d576b7brow0_col1\" class=\"data row0 col1\" >0.008302872940971635</td>\n",
       "                        <td id=\"T_8a7f774e_3b2f_11ec_b9bf_00155d576b7brow0_col2\" class=\"data row0 col2\" >0.008292852483801827</td>\n",
       "            </tr>\n",
       "            <tr>\n",
       "                                <td id=\"T_8a7f774e_3b2f_11ec_b9bf_00155d576b7brow1_col0\" class=\"data row1 col0\" >Абсолютная пропускная способность</td>\n",
       "                        <td id=\"T_8a7f774e_3b2f_11ec_b9bf_00155d576b7brow1_col1\" class=\"data row1 col1\" >0.9916971270590283</td>\n",
       "                        <td id=\"T_8a7f774e_3b2f_11ec_b9bf_00155d576b7brow1_col2\" class=\"data row1 col2\" >0.9917071475161982</td>\n",
       "            </tr>\n",
       "            <tr>\n",
       "                                <td id=\"T_8a7f774e_3b2f_11ec_b9bf_00155d576b7brow2_col0\" class=\"data row2 col0\" >Среднее число заявок в очереди</td>\n",
       "                        <td id=\"T_8a7f774e_3b2f_11ec_b9bf_00155d576b7brow2_col1\" class=\"data row2 col1\" >0.12946970275754494</td>\n",
       "                        <td id=\"T_8a7f774e_3b2f_11ec_b9bf_00155d576b7brow2_col2\" class=\"data row2 col2\" >0.13069535514471678</td>\n",
       "            </tr>\n",
       "            <tr>\n",
       "                                <td id=\"T_8a7f774e_3b2f_11ec_b9bf_00155d576b7brow3_col0\" class=\"data row3 col0\" >Среднее время пребывания заявки в очереди</td>\n",
       "                        <td id=\"T_8a7f774e_3b2f_11ec_b9bf_00155d576b7brow3_col1\" class=\"data row3 col1\" >4.753374551948863</td>\n",
       "                        <td id=\"T_8a7f774e_3b2f_11ec_b9bf_00155d576b7brow3_col2\" class=\"data row3 col2\" >4.762492704863915</td>\n",
       "            </tr>\n",
       "            <tr>\n",
       "                                <td id=\"T_8a7f774e_3b2f_11ec_b9bf_00155d576b7brow4_col0\" class=\"data row4 col0\" >Среднее число заявок в СМО</td>\n",
       "                        <td id=\"T_8a7f774e_3b2f_11ec_b9bf_00155d576b7brow4_col1\" class=\"data row4 col1\" >4.753374551948863</td>\n",
       "                        <td id=\"T_8a7f774e_3b2f_11ec_b9bf_00155d576b7brow4_col2\" class=\"data row4 col2\" >4.762492704863915</td>\n",
       "            </tr>\n",
       "            <tr>\n",
       "                                <td id=\"T_8a7f774e_3b2f_11ec_b9bf_00155d576b7brow5_col0\" class=\"data row5 col0\" >Среднее время пребывания заявки в СМО</td>\n",
       "                        <td id=\"T_8a7f774e_3b2f_11ec_b9bf_00155d576b7brow5_col1\" class=\"data row5 col1\" >0.12946970275754494</td>\n",
       "                        <td id=\"T_8a7f774e_3b2f_11ec_b9bf_00155d576b7brow5_col2\" class=\"data row5 col2\" >0.13069535514471678</td>\n",
       "            </tr>\n",
       "            <tr>\n",
       "                                <td id=\"T_8a7f774e_3b2f_11ec_b9bf_00155d576b7brow6_col0\" class=\"data row6 col0\" >Среднее число занятых каналов</td>\n",
       "                        <td id=\"T_8a7f774e_3b2f_11ec_b9bf_00155d576b7brow6_col1\" class=\"data row6 col1\" >4.623904849191318</td>\n",
       "                        <td id=\"T_8a7f774e_3b2f_11ec_b9bf_00155d576b7brow6_col2\" class=\"data row6 col2\" >4.631797349719198</td>\n",
       "            </tr>\n",
       "    </tbody></table>"
      ],
      "text/plain": [
       "<pandas.io.formats.style.Styler at 0x7f1779550eb8>"
      ]
     },
     "execution_count": 16,
     "metadata": {},
     "output_type": "execute_result"
    }
   ],
   "source": [
    "stats_dataframe(simulator)"
   ]
  },
  {
   "cell_type": "markdown",
   "id": "wound-overview",
   "metadata": {},
   "source": [
    "**Изменим количество каналов**"
   ]
  },
  {
   "cell_type": "code",
   "execution_count": 17,
   "id": "dental-jacksonville",
   "metadata": {},
   "outputs": [],
   "source": [
    "simulator = Simulator(\n",
    "    channels=10,\n",
    "    queue_size=3,\n",
    "    arrival_rate=1.,\n",
    "    service_rate=0.2,\n",
    "    rejection_rate=0.5\n",
    ")\n",
    "simulator(100000)"
   ]
  },
  {
   "cell_type": "code",
   "execution_count": 18,
   "id": "breathing-preference",
   "metadata": {},
   "outputs": [
    {
     "name": "stderr",
     "output_type": "stream",
     "text": [
      "/home/pineapple/.local/lib/python3.6/site-packages/seaborn/_decorators.py:43: FutureWarning: Pass the following variables as keyword args: x, y. From version 0.12, the only valid positional argument will be `data`, and passing other arguments without an explicit keyword will result in an error or misinterpretation.\n",
      "  FutureWarning\n",
      "/home/pineapple/.local/lib/python3.6/site-packages/seaborn/_decorators.py:43: FutureWarning: Pass the following variables as keyword args: x, y. From version 0.12, the only valid positional argument will be `data`, and passing other arguments without an explicit keyword will result in an error or misinterpretation.\n",
      "  FutureWarning\n"
     ]
    },
    {
     "data": {
      "image/png": "[encoded data removed]",
      "text/plain": [
       "<Figure size 1008x432 with 2 Axes>"
      ]
     },
     "metadata": {
      "needs_background": "light"
     },
     "output_type": "display_data"
    }
   ],
   "source": [
    "plot_hists(simulator)"
   ]
  },
  {
   "cell_type": "code",
   "execution_count": 19,
   "id": "acknowledged-recipient",
   "metadata": {},
   "outputs": [
    {
     "data": {
      "text/html": [
       "<style  type=\"text/css\" >\n",
       "</style><table id=\"T_303f1a7c_3b30_11ec_b9bf_00155d576b7b\" ><thead>    <tr>        <th class=\"col_heading level0 col0\" >Характеристика</th>        <th class=\"col_heading level0 col1\" >Значения для системы</th>        <th class=\"col_heading level0 col2\" >Теоретические значения</th>    </tr></thead><tbody>\n",
       "                <tr>\n",
       "                                <td id=\"T_303f1a7c_3b30_11ec_b9bf_00155d576b7brow0_col0\" class=\"data row0 col0\" >Вероятность отказа</td>\n",
       "                        <td id=\"T_303f1a7c_3b30_11ec_b9bf_00155d576b7brow0_col1\" class=\"data row0 col1\" >0.0007087763660967517</td>\n",
       "                        <td id=\"T_303f1a7c_3b30_11ec_b9bf_00155d576b7brow0_col2\" class=\"data row0 col2\" >0.0006930834180541871</td>\n",
       "            </tr>\n",
       "            <tr>\n",
       "                                <td id=\"T_303f1a7c_3b30_11ec_b9bf_00155d576b7brow1_col0\" class=\"data row1 col0\" >Абсолютная пропускная способность</td>\n",
       "                        <td id=\"T_303f1a7c_3b30_11ec_b9bf_00155d576b7brow1_col1\" class=\"data row1 col1\" >0.9992912236339032</td>\n",
       "                        <td id=\"T_303f1a7c_3b30_11ec_b9bf_00155d576b7brow1_col2\" class=\"data row1 col2\" >0.9993069165819458</td>\n",
       "            </tr>\n",
       "            <tr>\n",
       "                                <td id=\"T_303f1a7c_3b30_11ec_b9bf_00155d576b7brow2_col0\" class=\"data row2 col0\" >Среднее число заявок в очереди</td>\n",
       "                        <td id=\"T_303f1a7c_3b30_11ec_b9bf_00155d576b7brow2_col1\" class=\"data row2 col1\" >0.01475883377610752</td>\n",
       "                        <td id=\"T_303f1a7c_3b30_11ec_b9bf_00155d576b7brow2_col2\" class=\"data row2 col2\" >0.014208210070110838</td>\n",
       "            </tr>\n",
       "            <tr>\n",
       "                                <td id=\"T_303f1a7c_3b30_11ec_b9bf_00155d576b7brow3_col0\" class=\"data row3 col0\" >Среднее время пребывания заявки в очереди</td>\n",
       "                        <td id=\"T_303f1a7c_3b30_11ec_b9bf_00155d576b7brow3_col1\" class=\"data row3 col1\" >4.986079069213115</td>\n",
       "                        <td id=\"T_303f1a7c_3b30_11ec_b9bf_00155d576b7brow3_col2\" class=\"data row3 col2\" >4.975222267804565</td>\n",
       "            </tr>\n",
       "            <tr>\n",
       "                                <td id=\"T_303f1a7c_3b30_11ec_b9bf_00155d576b7brow4_col0\" class=\"data row4 col0\" >Среднее число заявок в СМО</td>\n",
       "                        <td id=\"T_303f1a7c_3b30_11ec_b9bf_00155d576b7brow4_col1\" class=\"data row4 col1\" >4.986079069213115</td>\n",
       "                        <td id=\"T_303f1a7c_3b30_11ec_b9bf_00155d576b7brow4_col2\" class=\"data row4 col2\" >4.975222267804565</td>\n",
       "            </tr>\n",
       "            <tr>\n",
       "                                <td id=\"T_303f1a7c_3b30_11ec_b9bf_00155d576b7brow5_col0\" class=\"data row5 col0\" >Среднее время пребывания заявки в СМО</td>\n",
       "                        <td id=\"T_303f1a7c_3b30_11ec_b9bf_00155d576b7brow5_col1\" class=\"data row5 col1\" >0.01475883377610752</td>\n",
       "                        <td id=\"T_303f1a7c_3b30_11ec_b9bf_00155d576b7brow5_col2\" class=\"data row5 col2\" >0.014208210070110838</td>\n",
       "            </tr>\n",
       "            <tr>\n",
       "                                <td id=\"T_303f1a7c_3b30_11ec_b9bf_00155d576b7brow6_col0\" class=\"data row6 col0\" >Среднее число занятых каналов</td>\n",
       "                        <td id=\"T_303f1a7c_3b30_11ec_b9bf_00155d576b7brow6_col1\" class=\"data row6 col1\" >4.971320235437008</td>\n",
       "                        <td id=\"T_303f1a7c_3b30_11ec_b9bf_00155d576b7brow6_col2\" class=\"data row6 col2\" >4.961014057734454</td>\n",
       "            </tr>\n",
       "    </tbody></table>"
      ],
      "text/plain": [
       "<pandas.io.formats.style.Styler at 0x7f17793f60f0>"
      ]
     },
     "execution_count": 19,
     "metadata": {},
     "output_type": "execute_result"
    }
   ],
   "source": [
    "stats_dataframe(simulator)"
   ]
  },
  {
   "cell_type": "code",
   "execution_count": 20,
   "id": "touched-suffering",
   "metadata": {},
   "outputs": [],
   "source": [
    "simulator = Simulator(\n",
    "    channels=4,\n",
    "    queue_size=3,\n",
    "    arrival_rate=1.,\n",
    "    service_rate=0.2,\n",
    "    rejection_rate=0.5\n",
    ")\n",
    "simulator(100000)"
   ]
  },
  {
   "cell_type": "code",
   "execution_count": 21,
   "id": "french-receiver",
   "metadata": {},
   "outputs": [
    {
     "name": "stderr",
     "output_type": "stream",
     "text": [
      "/home/pineapple/.local/lib/python3.6/site-packages/seaborn/_decorators.py:43: FutureWarning: Pass the following variables as keyword args: x, y. From version 0.12, the only valid positional argument will be `data`, and passing other arguments without an explicit keyword will result in an error or misinterpretation.\n",
      "  FutureWarning\n",
      "/home/pineapple/.local/lib/python3.6/site-packages/seaborn/_decorators.py:43: FutureWarning: Pass the following variables as keyword args: x, y. From version 0.12, the only valid positional argument will be `data`, and passing other arguments without an explicit keyword will result in an error or misinterpretation.\n",
      "  FutureWarning\n"
     ]
    },
    {
     "data": {
      "image/png": "[encoded data removed]",
      "text/plain": [
       "<Figure size 1008x432 with 2 Axes>"
      ]
     },
     "metadata": {
      "needs_background": "light"
     },
     "output_type": "display_data"
    }
   ],
   "source": [
    "plot_hists(simulator)"
   ]
  },
  {
   "cell_type": "code",
   "execution_count": 22,
   "id": "little-queen",
   "metadata": {},
   "outputs": [
    {
     "data": {
      "text/html": [
       "<style  type=\"text/css\" >\n",
       "</style><table id=\"T_f11c05c0_3b30_11ec_b9bf_00155d576b7b\" ><thead>    <tr>        <th class=\"col_heading level0 col0\" >Характеристика</th>        <th class=\"col_heading level0 col1\" >Значения для системы</th>        <th class=\"col_heading level0 col2\" >Теоретические значения</th>    </tr></thead><tbody>\n",
       "                <tr>\n",
       "                                <td id=\"T_f11c05c0_3b30_11ec_b9bf_00155d576b7brow0_col0\" class=\"data row0 col0\" >Вероятность отказа</td>\n",
       "                        <td id=\"T_f11c05c0_3b30_11ec_b9bf_00155d576b7brow0_col1\" class=\"data row0 col1\" >0.0478854312129032</td>\n",
       "                        <td id=\"T_f11c05c0_3b30_11ec_b9bf_00155d576b7brow0_col2\" class=\"data row0 col2\" >0.047730480562697304</td>\n",
       "            </tr>\n",
       "            <tr>\n",
       "                                <td id=\"T_f11c05c0_3b30_11ec_b9bf_00155d576b7brow1_col0\" class=\"data row1 col0\" >Абсолютная пропускная способность</td>\n",
       "                        <td id=\"T_f11c05c0_3b30_11ec_b9bf_00155d576b7brow1_col1\" class=\"data row1 col1\" >0.9521145687870968</td>\n",
       "                        <td id=\"T_f11c05c0_3b30_11ec_b9bf_00155d576b7brow1_col2\" class=\"data row1 col2\" >0.9522695194373026</td>\n",
       "            </tr>\n",
       "            <tr>\n",
       "                                <td id=\"T_f11c05c0_3b30_11ec_b9bf_00155d576b7brow2_col0\" class=\"data row2 col0\" >Среднее число заявок в очереди</td>\n",
       "                        <td id=\"T_f11c05c0_3b30_11ec_b9bf_00155d576b7brow2_col1\" class=\"data row2 col1\" >0.5561182954491279</td>\n",
       "                        <td id=\"T_f11c05c0_3b30_11ec_b9bf_00155d576b7brow2_col2\" class=\"data row2 col2\" >0.5603558418060665</td>\n",
       "            </tr>\n",
       "            <tr>\n",
       "                                <td id=\"T_f11c05c0_3b30_11ec_b9bf_00155d576b7brow3_col0\" class=\"data row3 col0\" >Среднее время пребывания заявки в очереди</td>\n",
       "                        <td id=\"T_f11c05c0_3b30_11ec_b9bf_00155d576b7brow3_col1\" class=\"data row3 col1\" >3.9136797152600877</td>\n",
       "                        <td id=\"T_f11c05c0_3b30_11ec_b9bf_00155d576b7brow3_col2\" class=\"data row3 col2\" >3.9208138344774137</td>\n",
       "            </tr>\n",
       "            <tr>\n",
       "                                <td id=\"T_f11c05c0_3b30_11ec_b9bf_00155d576b7brow4_col0\" class=\"data row4 col0\" >Среднее число заявок в СМО</td>\n",
       "                        <td id=\"T_f11c05c0_3b30_11ec_b9bf_00155d576b7brow4_col1\" class=\"data row4 col1\" >3.9136797152600877</td>\n",
       "                        <td id=\"T_f11c05c0_3b30_11ec_b9bf_00155d576b7brow4_col2\" class=\"data row4 col2\" >3.9208138344774137</td>\n",
       "            </tr>\n",
       "            <tr>\n",
       "                                <td id=\"T_f11c05c0_3b30_11ec_b9bf_00155d576b7brow5_col0\" class=\"data row5 col0\" >Среднее время пребывания заявки в СМО</td>\n",
       "                        <td id=\"T_f11c05c0_3b30_11ec_b9bf_00155d576b7brow5_col1\" class=\"data row5 col1\" >0.5561182954491279</td>\n",
       "                        <td id=\"T_f11c05c0_3b30_11ec_b9bf_00155d576b7brow5_col2\" class=\"data row5 col2\" >0.5603558418060665</td>\n",
       "            </tr>\n",
       "            <tr>\n",
       "                                <td id=\"T_f11c05c0_3b30_11ec_b9bf_00155d576b7brow6_col0\" class=\"data row6 col0\" >Среднее число занятых каналов</td>\n",
       "                        <td id=\"T_f11c05c0_3b30_11ec_b9bf_00155d576b7brow6_col1\" class=\"data row6 col1\" >3.35756141981096</td>\n",
       "                        <td id=\"T_f11c05c0_3b30_11ec_b9bf_00155d576b7brow6_col2\" class=\"data row6 col2\" >3.360457992671347</td>\n",
       "            </tr>\n",
       "    </tbody></table>"
      ],
      "text/plain": [
       "<pandas.io.formats.style.Styler at 0x7f17793e3400>"
      ]
     },
     "execution_count": 22,
     "metadata": {},
     "output_type": "execute_result"
    }
   ],
   "source": [
    "stats_dataframe(simulator)"
   ]
  },
  {
   "cell_type": "markdown",
   "id": "changed-venue",
   "metadata": {},
   "source": [
    "Как мы видим, при увеличении количества каналов увеличивается пропускная способность и уменьшается вероятность отказа"
   ]
  },
  {
   "cell_type": "markdown",
   "id": "split-closer",
   "metadata": {},
   "source": [
    "**Изменим интенсивность потока заявок**"
   ]
  },
  {
   "cell_type": "code",
   "execution_count": 23,
   "id": "engaged-organizer",
   "metadata": {},
   "outputs": [],
   "source": [
    "simulator = Simulator(\n",
    "    channels=7,\n",
    "    queue_size=3,\n",
    "    arrival_rate=2.,\n",
    "    service_rate=0.2,\n",
    "    rejection_rate=0.5\n",
    ")\n",
    "simulator(100000)"
   ]
  },
  {
   "cell_type": "code",
   "execution_count": 24,
   "id": "missing-arbitration",
   "metadata": {},
   "outputs": [
    {
     "name": "stderr",
     "output_type": "stream",
     "text": [
      "/home/pineapple/.local/lib/python3.6/site-packages/seaborn/_decorators.py:43: FutureWarning: Pass the following variables as keyword args: x, y. From version 0.12, the only valid positional argument will be `data`, and passing other arguments without an explicit keyword will result in an error or misinterpretation.\n",
      "  FutureWarning\n",
      "/home/pineapple/.local/lib/python3.6/site-packages/seaborn/_decorators.py:43: FutureWarning: Pass the following variables as keyword args: x, y. From version 0.12, the only valid positional argument will be `data`, and passing other arguments without an explicit keyword will result in an error or misinterpretation.\n",
      "  FutureWarning\n"
     ]
    },
    {
     "data": {
      "image/png": "[encoded data removed]",
      "text/plain": [
       "<Figure size 1008x432 with 2 Axes>"
      ]
     },
     "metadata": {
      "needs_background": "light"
     },
     "output_type": "display_data"
    }
   ],
   "source": [
    "plot_hists(simulator)"
   ]
  },
  {
   "cell_type": "code",
   "execution_count": 25,
   "id": "freelance-pavilion",
   "metadata": {},
   "outputs": [
    {
     "data": {
      "text/html": [
       "<style  type=\"text/css\" >\n",
       "</style><table id=\"T_4cc4f21a_3b31_11ec_b9bf_00155d576b7b\" ><thead>    <tr>        <th class=\"col_heading level0 col0\" >Характеристика</th>        <th class=\"col_heading level0 col1\" >Значения для системы</th>        <th class=\"col_heading level0 col2\" >Теоретические значения</th>    </tr></thead><tbody>\n",
       "                <tr>\n",
       "                                <td id=\"T_4cc4f21a_3b31_11ec_b9bf_00155d576b7brow0_col0\" class=\"data row0 col0\" >Вероятность отказа</td>\n",
       "                        <td id=\"T_4cc4f21a_3b31_11ec_b9bf_00155d576b7brow0_col1\" class=\"data row0 col1\" >0.1219773280245156</td>\n",
       "                        <td id=\"T_4cc4f21a_3b31_11ec_b9bf_00155d576b7brow0_col2\" class=\"data row0 col2\" >0.12148953214749526</td>\n",
       "            </tr>\n",
       "            <tr>\n",
       "                                <td id=\"T_4cc4f21a_3b31_11ec_b9bf_00155d576b7brow1_col0\" class=\"data row1 col0\" >Абсолютная пропускная способность</td>\n",
       "                        <td id=\"T_4cc4f21a_3b31_11ec_b9bf_00155d576b7brow1_col1\" class=\"data row1 col1\" >1.756045343950969</td>\n",
       "                        <td id=\"T_4cc4f21a_3b31_11ec_b9bf_00155d576b7brow1_col2\" class=\"data row1 col2\" >1.7570209357050095</td>\n",
       "            </tr>\n",
       "            <tr>\n",
       "                                <td id=\"T_4cc4f21a_3b31_11ec_b9bf_00155d576b7brow2_col0\" class=\"data row2 col0\" >Среднее число заявок в очереди</td>\n",
       "                        <td id=\"T_4cc4f21a_3b31_11ec_b9bf_00155d576b7brow2_col1\" class=\"data row2 col1\" >0.9272152198540222</td>\n",
       "                        <td id=\"T_4cc4f21a_3b31_11ec_b9bf_00155d576b7brow2_col2\" class=\"data row2 col2\" >0.928180025606864</td>\n",
       "            </tr>\n",
       "            <tr>\n",
       "                                <td id=\"T_4cc4f21a_3b31_11ec_b9bf_00155d576b7brow3_col0\" class=\"data row3 col0\" >Среднее время пребывания заявки в очереди</td>\n",
       "                        <td id=\"T_4cc4f21a_3b31_11ec_b9bf_00155d576b7brow3_col1\" class=\"data row3 col1\" >7.392523189941231</td>\n",
       "                        <td id=\"T_4cc4f21a_3b31_11ec_b9bf_00155d576b7brow3_col2\" class=\"data row3 col2\" >7.392834640114753</td>\n",
       "            </tr>\n",
       "            <tr>\n",
       "                                <td id=\"T_4cc4f21a_3b31_11ec_b9bf_00155d576b7brow4_col0\" class=\"data row4 col0\" >Среднее число заявок в СМО</td>\n",
       "                        <td id=\"T_4cc4f21a_3b31_11ec_b9bf_00155d576b7brow4_col1\" class=\"data row4 col1\" >3.6962615949706157</td>\n",
       "                        <td id=\"T_4cc4f21a_3b31_11ec_b9bf_00155d576b7brow4_col2\" class=\"data row4 col2\" >3.6964173200573764</td>\n",
       "            </tr>\n",
       "            <tr>\n",
       "                                <td id=\"T_4cc4f21a_3b31_11ec_b9bf_00155d576b7brow5_col0\" class=\"data row5 col0\" >Среднее время пребывания заявки в СМО</td>\n",
       "                        <td id=\"T_4cc4f21a_3b31_11ec_b9bf_00155d576b7brow5_col1\" class=\"data row5 col1\" >0.4636076099270111</td>\n",
       "                        <td id=\"T_4cc4f21a_3b31_11ec_b9bf_00155d576b7brow5_col2\" class=\"data row5 col2\" >0.464090012803432</td>\n",
       "            </tr>\n",
       "            <tr>\n",
       "                                <td id=\"T_4cc4f21a_3b31_11ec_b9bf_00155d576b7brow6_col0\" class=\"data row6 col0\" >Среднее число занятых каналов</td>\n",
       "                        <td id=\"T_4cc4f21a_3b31_11ec_b9bf_00155d576b7brow6_col1\" class=\"data row6 col1\" >6.465307970087209</td>\n",
       "                        <td id=\"T_4cc4f21a_3b31_11ec_b9bf_00155d576b7brow6_col2\" class=\"data row6 col2\" >6.4646546145078885</td>\n",
       "            </tr>\n",
       "    </tbody></table>"
      ],
      "text/plain": [
       "<pandas.io.formats.style.Styler at 0x7f1779158a58>"
      ]
     },
     "execution_count": 25,
     "metadata": {},
     "output_type": "execute_result"
    }
   ],
   "source": [
    "stats_dataframe(simulator)"
   ]
  },
  {
   "cell_type": "code",
   "execution_count": 26,
   "id": "sound-spiritual",
   "metadata": {},
   "outputs": [],
   "source": [
    "simulator = Simulator(\n",
    "    channels=4,\n",
    "    queue_size=3,\n",
    "    arrival_rate=0.5,\n",
    "    service_rate=0.2,\n",
    "    rejection_rate=0.5\n",
    ")\n",
    "simulator(100000)"
   ]
  },
  {
   "cell_type": "code",
   "execution_count": 27,
   "id": "fatty-costa",
   "metadata": {},
   "outputs": [
    {
     "name": "stderr",
     "output_type": "stream",
     "text": [
      "/home/pineapple/.local/lib/python3.6/site-packages/seaborn/_decorators.py:43: FutureWarning: Pass the following variables as keyword args: x, y. From version 0.12, the only valid positional argument will be `data`, and passing other arguments without an explicit keyword will result in an error or misinterpretation.\n",
      "  FutureWarning\n",
      "/home/pineapple/.local/lib/python3.6/site-packages/seaborn/_decorators.py:43: FutureWarning: Pass the following variables as keyword args: x, y. From version 0.12, the only valid positional argument will be `data`, and passing other arguments without an explicit keyword will result in an error or misinterpretation.\n",
      "  FutureWarning\n"
     ]
    },
    {
     "data": {
      "image/png": "[encoded data removed]",
      "text/plain": [
       "<Figure size 1008x432 with 2 Axes>"
      ]
     },
     "metadata": {
      "needs_background": "light"
     },
     "output_type": "display_data"
    }
   ],
   "source": [
    "plot_hists(simulator)"
   ]
  },
  {
   "cell_type": "code",
   "execution_count": 28,
   "id": "qualified-ghost",
   "metadata": {},
   "outputs": [
    {
     "data": {
      "text/html": [
       "<style  type=\"text/css\" >\n",
       "</style><table id=\"T_6a2d536a_3b31_11ec_b9bf_00155d576b7b\" ><thead>    <tr>        <th class=\"col_heading level0 col0\" >Характеристика</th>        <th class=\"col_heading level0 col1\" >Значения для системы</th>        <th class=\"col_heading level0 col2\" >Теоретические значения</th>    </tr></thead><tbody>\n",
       "                <tr>\n",
       "                                <td id=\"T_6a2d536a_3b31_11ec_b9bf_00155d576b7brow0_col0\" class=\"data row0 col0\" >Вероятность отказа</td>\n",
       "                        <td id=\"T_6a2d536a_3b31_11ec_b9bf_00155d576b7brow0_col1\" class=\"data row0 col1\" >0.0031767123380448755</td>\n",
       "                        <td id=\"T_6a2d536a_3b31_11ec_b9bf_00155d576b7brow0_col2\" class=\"data row0 col2\" >0.0032324722013597033</td>\n",
       "            </tr>\n",
       "            <tr>\n",
       "                                <td id=\"T_6a2d536a_3b31_11ec_b9bf_00155d576b7brow1_col0\" class=\"data row1 col0\" >Абсолютная пропускная способность</td>\n",
       "                        <td id=\"T_6a2d536a_3b31_11ec_b9bf_00155d576b7brow1_col1\" class=\"data row1 col1\" >0.4984116438309776</td>\n",
       "                        <td id=\"T_6a2d536a_3b31_11ec_b9bf_00155d576b7brow1_col2\" class=\"data row1 col2\" >0.49838376389932015</td>\n",
       "            </tr>\n",
       "            <tr>\n",
       "                                <td id=\"T_6a2d536a_3b31_11ec_b9bf_00155d576b7brow2_col0\" class=\"data row2 col0\" >Среднее число заявок в очереди</td>\n",
       "                        <td id=\"T_6a2d536a_3b31_11ec_b9bf_00155d576b7brow2_col1\" class=\"data row2 col1\" >0.09157440676292913</td>\n",
       "                        <td id=\"T_6a2d536a_3b31_11ec_b9bf_00155d576b7brow2_col2\" class=\"data row2 col2\" >0.09296590051110507</td>\n",
       "            </tr>\n",
       "            <tr>\n",
       "                                <td id=\"T_6a2d536a_3b31_11ec_b9bf_00155d576b7brow3_col0\" class=\"data row3 col0\" >Среднее время пребывания заявки в очереди</td>\n",
       "                        <td id=\"T_6a2d536a_3b31_11ec_b9bf_00155d576b7brow3_col1\" class=\"data row3 col1\" >2.33979984518289</td>\n",
       "                        <td id=\"T_6a2d536a_3b31_11ec_b9bf_00155d576b7brow3_col2\" class=\"data row3 col2\" >2.352469968729943</td>\n",
       "            </tr>\n",
       "            <tr>\n",
       "                                <td id=\"T_6a2d536a_3b31_11ec_b9bf_00155d576b7brow4_col0\" class=\"data row4 col0\" >Среднее число заявок в СМО</td>\n",
       "                        <td id=\"T_6a2d536a_3b31_11ec_b9bf_00155d576b7brow4_col1\" class=\"data row4 col1\" >4.67959969036578</td>\n",
       "                        <td id=\"T_6a2d536a_3b31_11ec_b9bf_00155d576b7brow4_col2\" class=\"data row4 col2\" >4.704939937459886</td>\n",
       "            </tr>\n",
       "            <tr>\n",
       "                                <td id=\"T_6a2d536a_3b31_11ec_b9bf_00155d576b7brow5_col0\" class=\"data row5 col0\" >Среднее время пребывания заявки в СМО</td>\n",
       "                        <td id=\"T_6a2d536a_3b31_11ec_b9bf_00155d576b7brow5_col1\" class=\"data row5 col1\" >0.18314881352585827</td>\n",
       "                        <td id=\"T_6a2d536a_3b31_11ec_b9bf_00155d576b7brow5_col2\" class=\"data row5 col2\" >0.18593180102221013</td>\n",
       "            </tr>\n",
       "            <tr>\n",
       "                                <td id=\"T_6a2d536a_3b31_11ec_b9bf_00155d576b7brow6_col0\" class=\"data row6 col0\" >Среднее число занятых каналов</td>\n",
       "                        <td id=\"T_6a2d536a_3b31_11ec_b9bf_00155d576b7brow6_col1\" class=\"data row6 col1\" >2.248225438419961</td>\n",
       "                        <td id=\"T_6a2d536a_3b31_11ec_b9bf_00155d576b7brow6_col2\" class=\"data row6 col2\" >2.259504068218838</td>\n",
       "            </tr>\n",
       "    </tbody></table>"
      ],
      "text/plain": [
       "<pandas.io.formats.style.Styler at 0x7f17791b7c18>"
      ]
     },
     "execution_count": 28,
     "metadata": {},
     "output_type": "execute_result"
    }
   ],
   "source": [
    "stats_dataframe(simulator)"
   ]
  },
  {
   "cell_type": "markdown",
   "id": "pediatric-abuse",
   "metadata": {},
   "source": [
    "Увеличение интенсивности потока заявок приводит к большему заполнению очереди и увеличении вероятности отказа"
   ]
  },
  {
   "cell_type": "markdown",
   "id": "radical-satellite",
   "metadata": {},
   "source": [
    "**Изменим размер очереди**"
   ]
  },
  {
   "cell_type": "code",
   "execution_count": 29,
   "id": "neural-fairy",
   "metadata": {},
   "outputs": [],
   "source": [
    "simulator = Simulator(\n",
    "    channels=7,\n",
    "    queue_size=5,\n",
    "    arrival_rate=1.,\n",
    "    service_rate=0.2,\n",
    "    rejection_rate=0.5\n",
    ")\n",
    "simulator(100000)"
   ]
  },
  {
   "cell_type": "code",
   "execution_count": 30,
   "id": "pharmaceutical-hometown",
   "metadata": {},
   "outputs": [
    {
     "name": "stderr",
     "output_type": "stream",
     "text": [
      "/home/pineapple/.local/lib/python3.6/site-packages/seaborn/_decorators.py:43: FutureWarning: Pass the following variables as keyword args: x, y. From version 0.12, the only valid positional argument will be `data`, and passing other arguments without an explicit keyword will result in an error or misinterpretation.\n",
      "  FutureWarning\n",
      "/home/pineapple/.local/lib/python3.6/site-packages/seaborn/_decorators.py:43: FutureWarning: Pass the following variables as keyword args: x, y. From version 0.12, the only valid positional argument will be `data`, and passing other arguments without an explicit keyword will result in an error or misinterpretation.\n",
      "  FutureWarning\n"
     ]
    },
    {
     "data": {
      "image/png": "[encoded data removed]",
      "text/plain": [
       "<Figure size 1008x432 with 2 Axes>"
      ]
     },
     "metadata": {
      "needs_background": "light"
     },
     "output_type": "display_data"
    }
   ],
   "source": [
    "plot_hists(simulator)"
   ]
  },
  {
   "cell_type": "code",
   "execution_count": 31,
   "id": "complex-corner",
   "metadata": {},
   "outputs": [
    {
     "data": {
      "text/html": [
       "<style  type=\"text/css\" >\n",
       "</style><table id=\"T_cbf8935c_3b31_11ec_b9bf_00155d576b7b\" ><thead>    <tr>        <th class=\"col_heading level0 col0\" >Характеристика</th>        <th class=\"col_heading level0 col1\" >Значения для системы</th>        <th class=\"col_heading level0 col2\" >Теоретические значения</th>    </tr></thead><tbody>\n",
       "                <tr>\n",
       "                                <td id=\"T_cbf8935c_3b31_11ec_b9bf_00155d576b7brow0_col0\" class=\"data row0 col0\" >Вероятность отказа</td>\n",
       "                        <td id=\"T_cbf8935c_3b31_11ec_b9bf_00155d576b7brow0_col1\" class=\"data row0 col1\" >0.0006172374681921803</td>\n",
       "                        <td id=\"T_cbf8935c_3b31_11ec_b9bf_00155d576b7brow0_col2\" class=\"data row0 col2\" >0.0006234929759395533</td>\n",
       "            </tr>\n",
       "            <tr>\n",
       "                                <td id=\"T_cbf8935c_3b31_11ec_b9bf_00155d576b7brow1_col0\" class=\"data row1 col0\" >Абсолютная пропускная способность</td>\n",
       "                        <td id=\"T_cbf8935c_3b31_11ec_b9bf_00155d576b7brow1_col1\" class=\"data row1 col1\" >0.9993827625318078</td>\n",
       "                        <td id=\"T_cbf8935c_3b31_11ec_b9bf_00155d576b7brow1_col2\" class=\"data row1 col2\" >0.9993765070240604</td>\n",
       "            </tr>\n",
       "            <tr>\n",
       "                                <td id=\"T_cbf8935c_3b31_11ec_b9bf_00155d576b7brow2_col0\" class=\"data row2 col0\" >Среднее число заявок в очереди</td>\n",
       "                        <td id=\"T_cbf8935c_3b31_11ec_b9bf_00155d576b7brow2_col1\" class=\"data row2 col1\" >0.14379187578486294</td>\n",
       "                        <td id=\"T_cbf8935c_3b31_11ec_b9bf_00155d576b7brow2_col2\" class=\"data row2 col2\" >0.14314002103306037</td>\n",
       "            </tr>\n",
       "            <tr>\n",
       "                                <td id=\"T_cbf8935c_3b31_11ec_b9bf_00155d576b7brow3_col0\" class=\"data row3 col0\" >Среднее время пребывания заявки в очереди</td>\n",
       "                        <td id=\"T_cbf8935c_3b31_11ec_b9bf_00155d576b7brow3_col1\" class=\"data row3 col1\" >4.7766694259584535</td>\n",
       "                        <td id=\"T_cbf8935c_3b31_11ec_b9bf_00155d576b7brow3_col2\" class=\"data row3 col2\" >4.782172503570711</td>\n",
       "            </tr>\n",
       "            <tr>\n",
       "                                <td id=\"T_cbf8935c_3b31_11ec_b9bf_00155d576b7brow4_col0\" class=\"data row4 col0\" >Среднее число заявок в СМО</td>\n",
       "                        <td id=\"T_cbf8935c_3b31_11ec_b9bf_00155d576b7brow4_col1\" class=\"data row4 col1\" >4.7766694259584535</td>\n",
       "                        <td id=\"T_cbf8935c_3b31_11ec_b9bf_00155d576b7brow4_col2\" class=\"data row4 col2\" >4.782172503570711</td>\n",
       "            </tr>\n",
       "            <tr>\n",
       "                                <td id=\"T_cbf8935c_3b31_11ec_b9bf_00155d576b7brow5_col0\" class=\"data row5 col0\" >Среднее время пребывания заявки в СМО</td>\n",
       "                        <td id=\"T_cbf8935c_3b31_11ec_b9bf_00155d576b7brow5_col1\" class=\"data row5 col1\" >0.14379187578486294</td>\n",
       "                        <td id=\"T_cbf8935c_3b31_11ec_b9bf_00155d576b7brow5_col2\" class=\"data row5 col2\" >0.14314002103306037</td>\n",
       "            </tr>\n",
       "            <tr>\n",
       "                                <td id=\"T_cbf8935c_3b31_11ec_b9bf_00155d576b7brow6_col0\" class=\"data row6 col0\" >Среднее число занятых каналов</td>\n",
       "                        <td id=\"T_cbf8935c_3b31_11ec_b9bf_00155d576b7brow6_col1\" class=\"data row6 col1\" >4.632877550173591</td>\n",
       "                        <td id=\"T_cbf8935c_3b31_11ec_b9bf_00155d576b7brow6_col2\" class=\"data row6 col2\" >4.639032482537651</td>\n",
       "            </tr>\n",
       "    </tbody></table>"
      ],
      "text/plain": [
       "<pandas.io.formats.style.Styler at 0x7f177929b128>"
      ]
     },
     "execution_count": 31,
     "metadata": {},
     "output_type": "execute_result"
    }
   ],
   "source": [
    "stats_dataframe(simulator)"
   ]
  },
  {
   "cell_type": "code",
   "execution_count": 32,
   "id": "middle-neutral",
   "metadata": {},
   "outputs": [],
   "source": [
    "simulator = Simulator(\n",
    "    channels=7,\n",
    "    queue_size=1,\n",
    "    arrival_rate=1.,\n",
    "    service_rate=0.2,\n",
    "    rejection_rate=0.5\n",
    ")\n",
    "simulator(100000)"
   ]
  },
  {
   "cell_type": "code",
   "execution_count": 33,
   "id": "perfect-prescription",
   "metadata": {},
   "outputs": [
    {
     "name": "stderr",
     "output_type": "stream",
     "text": [
      "/home/pineapple/.local/lib/python3.6/site-packages/seaborn/_decorators.py:43: FutureWarning: Pass the following variables as keyword args: x, y. From version 0.12, the only valid positional argument will be `data`, and passing other arguments without an explicit keyword will result in an error or misinterpretation.\n",
      "  FutureWarning\n",
      "/home/pineapple/.local/lib/python3.6/site-packages/seaborn/_decorators.py:43: FutureWarning: Pass the following variables as keyword args: x, y. From version 0.12, the only valid positional argument will be `data`, and passing other arguments without an explicit keyword will result in an error or misinterpretation.\n",
      "  FutureWarning\n"
     ]
    },
    {
     "data": {
      "image/png": "[encoded data removed]",
      "text/plain": [
       "<Figure size 1008x432 with 2 Axes>"
      ]
     },
     "metadata": {
      "needs_background": "light"
     },
     "output_type": "display_data"
    }
   ],
   "source": [
    "plot_hists(simulator)"
   ]
  },
  {
   "cell_type": "code",
   "execution_count": 34,
   "id": "controversial-scotland",
   "metadata": {},
   "outputs": [
    {
     "data": {
      "text/html": [
       "<style  type=\"text/css\" >\n",
       "</style><table id=\"T_f53b7374_3b31_11ec_b9bf_00155d576b7b\" ><thead>    <tr>        <th class=\"col_heading level0 col0\" >Характеристика</th>        <th class=\"col_heading level0 col1\" >Значения для системы</th>        <th class=\"col_heading level0 col2\" >Теоретические значения</th>    </tr></thead><tbody>\n",
       "                <tr>\n",
       "                                <td id=\"T_f53b7374_3b31_11ec_b9bf_00155d576b7brow0_col0\" class=\"data row0 col0\" >Вероятность отказа</td>\n",
       "                        <td id=\"T_f53b7374_3b31_11ec_b9bf_00155d576b7brow0_col1\" class=\"data row0 col1\" >0.059025250918461725</td>\n",
       "                        <td id=\"T_f53b7374_3b31_11ec_b9bf_00155d576b7brow0_col2\" class=\"data row0 col2\" >0.05964737616441222</td>\n",
       "            </tr>\n",
       "            <tr>\n",
       "                                <td id=\"T_f53b7374_3b31_11ec_b9bf_00155d576b7brow1_col0\" class=\"data row1 col0\" >Абсолютная пропускная способность</td>\n",
       "                        <td id=\"T_f53b7374_3b31_11ec_b9bf_00155d576b7brow1_col1\" class=\"data row1 col1\" >0.9409747490815383</td>\n",
       "                        <td id=\"T_f53b7374_3b31_11ec_b9bf_00155d576b7brow1_col2\" class=\"data row1 col2\" >0.9403526238355878</td>\n",
       "            </tr>\n",
       "            <tr>\n",
       "                                <td id=\"T_f53b7374_3b31_11ec_b9bf_00155d576b7brow2_col0\" class=\"data row2 col0\" >Среднее число заявок в очереди</td>\n",
       "                        <td id=\"T_f53b7374_3b31_11ec_b9bf_00155d576b7brow2_col1\" class=\"data row2 col1\" >0.05913181899836755</td>\n",
       "                        <td id=\"T_f53b7374_3b31_11ec_b9bf_00155d576b7brow2_col2\" class=\"data row2 col2\" >0.059647376164412215</td>\n",
       "            </tr>\n",
       "            <tr>\n",
       "                                <td id=\"T_f53b7374_3b31_11ec_b9bf_00155d576b7brow3_col0\" class=\"data row3 col0\" >Среднее время пребывания заявки в очереди</td>\n",
       "                        <td id=\"T_f53b7374_3b31_11ec_b9bf_00155d576b7brow3_col1\" class=\"data row3 col1\" >4.608253394050711</td>\n",
       "                        <td id=\"T_f53b7374_3b31_11ec_b9bf_00155d576b7brow3_col2\" class=\"data row3 col2\" >4.612292054931321</td>\n",
       "            </tr>\n",
       "            <tr>\n",
       "                                <td id=\"T_f53b7374_3b31_11ec_b9bf_00155d576b7brow4_col0\" class=\"data row4 col0\" >Среднее число заявок в СМО</td>\n",
       "                        <td id=\"T_f53b7374_3b31_11ec_b9bf_00155d576b7brow4_col1\" class=\"data row4 col1\" >4.608253394050711</td>\n",
       "                        <td id=\"T_f53b7374_3b31_11ec_b9bf_00155d576b7brow4_col2\" class=\"data row4 col2\" >4.612292054931321</td>\n",
       "            </tr>\n",
       "            <tr>\n",
       "                                <td id=\"T_f53b7374_3b31_11ec_b9bf_00155d576b7brow5_col0\" class=\"data row5 col0\" >Среднее время пребывания заявки в СМО</td>\n",
       "                        <td id=\"T_f53b7374_3b31_11ec_b9bf_00155d576b7brow5_col1\" class=\"data row5 col1\" >0.05913181899836755</td>\n",
       "                        <td id=\"T_f53b7374_3b31_11ec_b9bf_00155d576b7brow5_col2\" class=\"data row5 col2\" >0.059647376164412215</td>\n",
       "            </tr>\n",
       "            <tr>\n",
       "                                <td id=\"T_f53b7374_3b31_11ec_b9bf_00155d576b7brow6_col0\" class=\"data row6 col0\" >Среднее число занятых каналов</td>\n",
       "                        <td id=\"T_f53b7374_3b31_11ec_b9bf_00155d576b7brow6_col1\" class=\"data row6 col1\" >4.549121575052343</td>\n",
       "                        <td id=\"T_f53b7374_3b31_11ec_b9bf_00155d576b7brow6_col2\" class=\"data row6 col2\" >4.552644678766908</td>\n",
       "            </tr>\n",
       "    </tbody></table>"
      ],
      "text/plain": [
       "<pandas.io.formats.style.Styler at 0x7f177958e5f8>"
      ]
     },
     "execution_count": 34,
     "metadata": {},
     "output_type": "execute_result"
    }
   ],
   "source": [
    "stats_dataframe(simulator)"
   ]
  },
  {
   "cell_type": "markdown",
   "id": "raised-insert",
   "metadata": {},
   "source": [
    "Увеличение размера очереди снижает вероятность отказа"
   ]
  },
  {
   "cell_type": "markdown",
   "id": "jewish-schedule",
   "metadata": {},
   "source": [
    "**Изменим интенсивность потока обслуживания**"
   ]
  },
  {
   "cell_type": "code",
   "execution_count": 40,
   "id": "passive-catholic",
   "metadata": {},
   "outputs": [],
   "source": [
    "simulator = Simulator(\n",
    "    channels=7,\n",
    "    queue_size=3,\n",
    "    arrival_rate=1.,\n",
    "    service_rate=0.4,\n",
    "    rejection_rate=0.5\n",
    ")\n",
    "simulator(100000)"
   ]
  },
  {
   "cell_type": "code",
   "execution_count": 41,
   "id": "framed-animation",
   "metadata": {},
   "outputs": [
    {
     "name": "stderr",
     "output_type": "stream",
     "text": [
      "/home/pineapple/.local/lib/python3.6/site-packages/seaborn/_decorators.py:43: FutureWarning: Pass the following variables as keyword args: x, y. From version 0.12, the only valid positional argument will be `data`, and passing other arguments without an explicit keyword will result in an error or misinterpretation.\n",
      "  FutureWarning\n",
      "/home/pineapple/.local/lib/python3.6/site-packages/seaborn/_decorators.py:43: FutureWarning: Pass the following variables as keyword args: x, y. From version 0.12, the only valid positional argument will be `data`, and passing other arguments without an explicit keyword will result in an error or misinterpretation.\n",
      "  FutureWarning\n"
     ]
    },
    {
     "data": {
      "image/png": "[encoded data removed]",
      "text/plain": [
       "<Figure size 1008x432 with 2 Axes>"
      ]
     },
     "metadata": {
      "needs_background": "light"
     },
     "output_type": "display_data"
    }
   ],
   "source": [
    "plot_hists(simulator)"
   ]
  },
  {
   "cell_type": "code",
   "execution_count": 42,
   "id": "desperate-aircraft",
   "metadata": {},
   "outputs": [
    {
     "data": {
      "text/html": [
       "<style  type=\"text/css\" >\n",
       "</style><table id=\"T_99f28182_3b32_11ec_b9bf_00155d576b7b\" ><thead>    <tr>        <th class=\"col_heading level0 col0\" >Характеристика</th>        <th class=\"col_heading level0 col1\" >Значения для системы</th>        <th class=\"col_heading level0 col2\" >Теоретические значения</th>    </tr></thead><tbody>\n",
       "                <tr>\n",
       "                                <td id=\"T_99f28182_3b32_11ec_b9bf_00155d576b7brow0_col0\" class=\"data row0 col0\" >Вероятность отказа</td>\n",
       "                        <td id=\"T_99f28182_3b32_11ec_b9bf_00155d576b7brow0_col1\" class=\"data row0 col1\" >0.0001811600795344022</td>\n",
       "                        <td id=\"T_99f28182_3b32_11ec_b9bf_00155d576b7brow0_col2\" class=\"data row0 col2\" >0.00018439922683946008</td>\n",
       "            </tr>\n",
       "            <tr>\n",
       "                                <td id=\"T_99f28182_3b32_11ec_b9bf_00155d576b7brow1_col0\" class=\"data row1 col0\" >Абсолютная пропускная способность</td>\n",
       "                        <td id=\"T_99f28182_3b32_11ec_b9bf_00155d576b7brow1_col1\" class=\"data row1 col1\" >0.9998188399204656</td>\n",
       "                        <td id=\"T_99f28182_3b32_11ec_b9bf_00155d576b7brow1_col2\" class=\"data row1 col2\" >0.9998156007731606</td>\n",
       "            </tr>\n",
       "            <tr>\n",
       "                                <td id=\"T_99f28182_3b32_11ec_b9bf_00155d576b7brow2_col0\" class=\"data row2 col0\" >Среднее число заявок в очереди</td>\n",
       "                        <td id=\"T_99f28182_3b32_11ec_b9bf_00155d576b7brow2_col1\" class=\"data row2 col1\" >0.005472333592718213</td>\n",
       "                        <td id=\"T_99f28182_3b32_11ec_b9bf_00155d576b7brow2_col2\" class=\"data row2 col2\" >0.005152114397894514</td>\n",
       "            </tr>\n",
       "            <tr>\n",
       "                                <td id=\"T_99f28182_3b32_11ec_b9bf_00155d576b7brow3_col0\" class=\"data row3 col0\" >Среднее время пребывания заявки в очереди</td>\n",
       "                        <td id=\"T_99f28182_3b32_11ec_b9bf_00155d576b7brow3_col1\" class=\"data row3 col1\" >2.4846487981797196</td>\n",
       "                        <td id=\"T_99f28182_3b32_11ec_b9bf_00155d576b7brow3_col2\" class=\"data row3 col2\" >2.4982509733334277</td>\n",
       "            </tr>\n",
       "            <tr>\n",
       "                                <td id=\"T_99f28182_3b32_11ec_b9bf_00155d576b7brow4_col0\" class=\"data row4 col0\" >Среднее число заявок в СМО</td>\n",
       "                        <td id=\"T_99f28182_3b32_11ec_b9bf_00155d576b7brow4_col1\" class=\"data row4 col1\" >2.4846487981797196</td>\n",
       "                        <td id=\"T_99f28182_3b32_11ec_b9bf_00155d576b7brow4_col2\" class=\"data row4 col2\" >2.4982509733334277</td>\n",
       "            </tr>\n",
       "            <tr>\n",
       "                                <td id=\"T_99f28182_3b32_11ec_b9bf_00155d576b7brow5_col0\" class=\"data row5 col0\" >Среднее время пребывания заявки в СМО</td>\n",
       "                        <td id=\"T_99f28182_3b32_11ec_b9bf_00155d576b7brow5_col1\" class=\"data row5 col1\" >0.005472333592718213</td>\n",
       "                        <td id=\"T_99f28182_3b32_11ec_b9bf_00155d576b7brow5_col2\" class=\"data row5 col2\" >0.005152114397894514</td>\n",
       "            </tr>\n",
       "            <tr>\n",
       "                                <td id=\"T_99f28182_3b32_11ec_b9bf_00155d576b7brow6_col0\" class=\"data row6 col0\" >Среднее число занятых каналов</td>\n",
       "                        <td id=\"T_99f28182_3b32_11ec_b9bf_00155d576b7brow6_col1\" class=\"data row6 col1\" >2.4791764645870016</td>\n",
       "                        <td id=\"T_99f28182_3b32_11ec_b9bf_00155d576b7brow6_col2\" class=\"data row6 col2\" >2.493098858935533</td>\n",
       "            </tr>\n",
       "    </tbody></table>"
      ],
      "text/plain": [
       "<pandas.io.formats.style.Styler at 0x7f1779446c18>"
      ]
     },
     "execution_count": 42,
     "metadata": {},
     "output_type": "execute_result"
    }
   ],
   "source": [
    "stats_dataframe(simulator)"
   ]
  },
  {
   "cell_type": "code",
   "execution_count": 46,
   "id": "complimentary-router",
   "metadata": {},
   "outputs": [],
   "source": [
    "simulator = Simulator(\n",
    "    channels=7,\n",
    "    queue_size=3,\n",
    "    arrival_rate=1.,\n",
    "    service_rate=0.1,\n",
    "    rejection_rate=0.5\n",
    ")\n",
    "simulator(100000)"
   ]
  },
  {
   "cell_type": "code",
   "execution_count": 47,
   "id": "annual-manner",
   "metadata": {},
   "outputs": [
    {
     "name": "stderr",
     "output_type": "stream",
     "text": [
      "/home/pineapple/.local/lib/python3.6/site-packages/seaborn/_decorators.py:43: FutureWarning: Pass the following variables as keyword args: x, y. From version 0.12, the only valid positional argument will be `data`, and passing other arguments without an explicit keyword will result in an error or misinterpretation.\n",
      "  FutureWarning\n",
      "/home/pineapple/.local/lib/python3.6/site-packages/seaborn/_decorators.py:43: FutureWarning: Pass the following variables as keyword args: x, y. From version 0.12, the only valid positional argument will be `data`, and passing other arguments without an explicit keyword will result in an error or misinterpretation.\n",
      "  FutureWarning\n"
     ]
    },
    {
     "data": {
      "image/png": "[encoded data removed]",
      "text/plain": [
       "<Figure size 1008x432 with 2 Axes>"
      ]
     },
     "metadata": {
      "needs_background": "light"
     },
     "output_type": "display_data"
    }
   ],
   "source": [
    "plot_hists(simulator)"
   ]
  },
  {
   "cell_type": "code",
   "execution_count": 48,
   "id": "beautiful-tracy",
   "metadata": {},
   "outputs": [
    {
     "data": {
      "text/html": [
       "<style  type=\"text/css\" >\n",
       "</style><table id=\"T_b2af49e4_3b32_11ec_b9bf_00155d576b7b\" ><thead>    <tr>        <th class=\"col_heading level0 col0\" >Характеристика</th>        <th class=\"col_heading level0 col1\" >Значения для системы</th>        <th class=\"col_heading level0 col2\" >Теоретические значения</th>    </tr></thead><tbody>\n",
       "                <tr>\n",
       "                                <td id=\"T_b2af49e4_3b32_11ec_b9bf_00155d576b7brow0_col0\" class=\"data row0 col0\" >Вероятность отказа</td>\n",
       "                        <td id=\"T_b2af49e4_3b32_11ec_b9bf_00155d576b7brow0_col1\" class=\"data row0 col1\" >0.05576298783546969</td>\n",
       "                        <td id=\"T_b2af49e4_3b32_11ec_b9bf_00155d576b7brow0_col2\" class=\"data row0 col2\" >0.05582846035435947</td>\n",
       "            </tr>\n",
       "            <tr>\n",
       "                                <td id=\"T_b2af49e4_3b32_11ec_b9bf_00155d576b7brow1_col0\" class=\"data row1 col0\" >Абсолютная пропускная способность</td>\n",
       "                        <td id=\"T_b2af49e4_3b32_11ec_b9bf_00155d576b7brow1_col1\" class=\"data row1 col1\" >0.9442370121645303</td>\n",
       "                        <td id=\"T_b2af49e4_3b32_11ec_b9bf_00155d576b7brow1_col2\" class=\"data row1 col2\" >0.9441715396456405</td>\n",
       "            </tr>\n",
       "            <tr>\n",
       "                                <td id=\"T_b2af49e4_3b32_11ec_b9bf_00155d576b7brow2_col0\" class=\"data row2 col0\" >Среднее число заявок в очереди</td>\n",
       "                        <td id=\"T_b2af49e4_3b32_11ec_b9bf_00155d576b7brow2_col1\" class=\"data row2 col1\" >0.6223853033813582</td>\n",
       "                        <td id=\"T_b2af49e4_3b32_11ec_b9bf_00155d576b7brow2_col2\" class=\"data row2 col2\" >0.6219290483475646</td>\n",
       "            </tr>\n",
       "            <tr>\n",
       "                                <td id=\"T_b2af49e4_3b32_11ec_b9bf_00155d576b7brow3_col0\" class=\"data row3 col0\" >Среднее время пребывания заявки в очереди</td>\n",
       "                        <td id=\"T_b2af49e4_3b32_11ec_b9bf_00155d576b7brow3_col1\" class=\"data row3 col1\" >6.954028293097407</td>\n",
       "                        <td id=\"T_b2af49e4_3b32_11ec_b9bf_00155d576b7brow3_col2\" class=\"data row3 col2\" >6.953999203066147</td>\n",
       "            </tr>\n",
       "            <tr>\n",
       "                                <td id=\"T_b2af49e4_3b32_11ec_b9bf_00155d576b7brow4_col0\" class=\"data row4 col0\" >Среднее число заявок в СМО</td>\n",
       "                        <td id=\"T_b2af49e4_3b32_11ec_b9bf_00155d576b7brow4_col1\" class=\"data row4 col1\" >6.954028293097407</td>\n",
       "                        <td id=\"T_b2af49e4_3b32_11ec_b9bf_00155d576b7brow4_col2\" class=\"data row4 col2\" >6.953999203066147</td>\n",
       "            </tr>\n",
       "            <tr>\n",
       "                                <td id=\"T_b2af49e4_3b32_11ec_b9bf_00155d576b7brow5_col0\" class=\"data row5 col0\" >Среднее время пребывания заявки в СМО</td>\n",
       "                        <td id=\"T_b2af49e4_3b32_11ec_b9bf_00155d576b7brow5_col1\" class=\"data row5 col1\" >0.6223853033813582</td>\n",
       "                        <td id=\"T_b2af49e4_3b32_11ec_b9bf_00155d576b7brow5_col2\" class=\"data row5 col2\" >0.6219290483475646</td>\n",
       "            </tr>\n",
       "            <tr>\n",
       "                                <td id=\"T_b2af49e4_3b32_11ec_b9bf_00155d576b7brow6_col0\" class=\"data row6 col0\" >Среднее число занятых каналов</td>\n",
       "                        <td id=\"T_b2af49e4_3b32_11ec_b9bf_00155d576b7brow6_col1\" class=\"data row6 col1\" >6.331642989716048</td>\n",
       "                        <td id=\"T_b2af49e4_3b32_11ec_b9bf_00155d576b7brow6_col2\" class=\"data row6 col2\" >6.332070154718582</td>\n",
       "            </tr>\n",
       "    </tbody></table>"
      ],
      "text/plain": [
       "<pandas.io.formats.style.Styler at 0x7f177936d6a0>"
      ]
     },
     "execution_count": 48,
     "metadata": {},
     "output_type": "execute_result"
    }
   ],
   "source": [
    "stats_dataframe(simulator)"
   ]
  },
  {
   "cell_type": "markdown",
   "id": "refined-laser",
   "metadata": {},
   "source": [
    "Увеличение интенсивности потока заявок уменьшает среднее количество заявок в очереди и снижает вероятность отказа"
   ]
  }
 ],
 "metadata": {
  "kernelspec": {
   "display_name": "Python 3",
   "language": "python",
   "name": "python3"
  },
  "language_info": {
   "codemirror_mode": {
    "name": "ipython",
    "version": 3
   },
   "file_extension": ".py",
   "mimetype": "text/x-python",
   "name": "python",
   "nbconvert_exporter": "python",
   "pygments_lexer": "ipython3",
   "version": "3.6.9"
  }
 },
 "nbformat": 4,
 "nbformat_minor": 5
}
